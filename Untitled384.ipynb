{
 "cells": [
  {
   "cell_type": "code",
   "execution_count": 1,
   "id": "4a0319e8-21bf-457d-a6ea-9514215c9277",
   "metadata": {},
   "outputs": [],
   "source": [
    "#Q1\n",
    "# In Estimation statistics, we infer about the population parameters from the sample \n",
    "# when we give a paticular value for the population paramter from the sample ,it is is called point estimation\n",
    "# when we are unsure we infer about the population parameter from the sample, we infer in a confidence interval about the population pararmeter  "
   ]
  },
  {
   "cell_type": "code",
   "execution_count": 2,
   "id": "a54324b6-4917-427a-9fac-ef2349f0eaec",
   "metadata": {},
   "outputs": [],
   "source": [
    "#Q2\n",
    "# since we are given with the pop standard deviation,we can apply the Z Procedure,\n",
    "#assumptions\n",
    "# sample size >=30\n",
    "# or population data is normal\n",
    "# y is the std of the population\n",
    "#x is the sample mean\n",
    "# confidence interval is 95%\n"
   ]
  },
  {
   "cell_type": "code",
   "execution_count": 3,
   "id": "0ea4dc24-2496-4e9a-890a-5d886a826dbc",
   "metadata": {},
   "outputs": [],
   "source": [
    "import numpy as np\n",
    "from math import sqrt\n",
    "def pop_mean(x,y):\n",
    "    n=int(input('enter the sample size '))\n",
    "    if(n>=30):\n",
    "        error_term=((1.96)*y)/sqrt(n)\n",
    "    return [x+error_term,x-error_term]\n",
    "\n",
    "       \n",
    "        \n",
    "    "
   ]
  },
  {
   "cell_type": "code",
   "execution_count": 4,
   "id": "26115c36-c694-4bc0-8d3f-ba5d1cda4021",
   "metadata": {},
   "outputs": [
    {
     "name": "stdin",
     "output_type": "stream",
     "text": [
      "enter the sample size  30\n"
     ]
    },
    {
     "data": {
      "text/plain": [
       "[70.71569080847341, 69.28430919152659]"
      ]
     },
     "execution_count": 4,
     "metadata": {},
     "output_type": "execute_result"
    }
   ],
   "source": [
    "pop_mean(70,2)"
   ]
  },
  {
   "cell_type": "code",
   "execution_count": 5,
   "id": "e7a71bb5-d2c8-4890-b06f-725ddaad1885",
   "metadata": {},
   "outputs": [],
   "source": [
    "#q3\n",
    "#hypothesis testing is a statistical anaylsis in which we test the assumption on population parameter\n",
    "# it is used to see whether the assumption prediction is true or not\n",
    "# it helps in infering about the population parameter\n",
    "\n",
    "\n"
   ]
  },
  {
   "cell_type": "code",
   "execution_count": 6,
   "id": "a477304a-6f2a-4dab-a1cb-1f9345abbf1a",
   "metadata": {},
   "outputs": [],
   "source": [
    "#q4\n",
    "#Ho(null hypothesis)-average height(males) is similar to average height females\n",
    "#Ha(aleternate hypothesis-average height of males is more than the average height of females\n"
   ]
  },
  {
   "cell_type": "code",
   "execution_count": 7,
   "id": "a46eb74d-ac5e-4198-a7bd-6fc28458d265",
   "metadata": {},
   "outputs": [
    {
     "data": {
      "text/html": [
       "<div>\n",
       "<style scoped>\n",
       "    .dataframe tbody tr th:only-of-type {\n",
       "        vertical-align: middle;\n",
       "    }\n",
       "\n",
       "    .dataframe tbody tr th {\n",
       "        vertical-align: top;\n",
       "    }\n",
       "\n",
       "    .dataframe thead th {\n",
       "        text-align: right;\n",
       "    }\n",
       "</style>\n",
       "<table border=\"1\" class=\"dataframe\">\n",
       "  <thead>\n",
       "    <tr style=\"text-align: right;\">\n",
       "      <th></th>\n",
       "      <th>survived</th>\n",
       "      <th>pclass</th>\n",
       "      <th>sex</th>\n",
       "      <th>age</th>\n",
       "      <th>sibsp</th>\n",
       "      <th>parch</th>\n",
       "      <th>fare</th>\n",
       "      <th>embarked</th>\n",
       "      <th>class</th>\n",
       "      <th>who</th>\n",
       "      <th>adult_male</th>\n",
       "      <th>deck</th>\n",
       "      <th>embark_town</th>\n",
       "      <th>alive</th>\n",
       "      <th>alone</th>\n",
       "    </tr>\n",
       "  </thead>\n",
       "  <tbody>\n",
       "    <tr>\n",
       "      <th>0</th>\n",
       "      <td>0</td>\n",
       "      <td>3</td>\n",
       "      <td>male</td>\n",
       "      <td>22.0</td>\n",
       "      <td>1</td>\n",
       "      <td>0</td>\n",
       "      <td>7.2500</td>\n",
       "      <td>S</td>\n",
       "      <td>Third</td>\n",
       "      <td>man</td>\n",
       "      <td>True</td>\n",
       "      <td>NaN</td>\n",
       "      <td>Southampton</td>\n",
       "      <td>no</td>\n",
       "      <td>False</td>\n",
       "    </tr>\n",
       "    <tr>\n",
       "      <th>1</th>\n",
       "      <td>1</td>\n",
       "      <td>1</td>\n",
       "      <td>female</td>\n",
       "      <td>38.0</td>\n",
       "      <td>1</td>\n",
       "      <td>0</td>\n",
       "      <td>71.2833</td>\n",
       "      <td>C</td>\n",
       "      <td>First</td>\n",
       "      <td>woman</td>\n",
       "      <td>False</td>\n",
       "      <td>C</td>\n",
       "      <td>Cherbourg</td>\n",
       "      <td>yes</td>\n",
       "      <td>False</td>\n",
       "    </tr>\n",
       "    <tr>\n",
       "      <th>2</th>\n",
       "      <td>1</td>\n",
       "      <td>3</td>\n",
       "      <td>female</td>\n",
       "      <td>26.0</td>\n",
       "      <td>0</td>\n",
       "      <td>0</td>\n",
       "      <td>7.9250</td>\n",
       "      <td>S</td>\n",
       "      <td>Third</td>\n",
       "      <td>woman</td>\n",
       "      <td>False</td>\n",
       "      <td>NaN</td>\n",
       "      <td>Southampton</td>\n",
       "      <td>yes</td>\n",
       "      <td>True</td>\n",
       "    </tr>\n",
       "    <tr>\n",
       "      <th>3</th>\n",
       "      <td>1</td>\n",
       "      <td>1</td>\n",
       "      <td>female</td>\n",
       "      <td>35.0</td>\n",
       "      <td>1</td>\n",
       "      <td>0</td>\n",
       "      <td>53.1000</td>\n",
       "      <td>S</td>\n",
       "      <td>First</td>\n",
       "      <td>woman</td>\n",
       "      <td>False</td>\n",
       "      <td>C</td>\n",
       "      <td>Southampton</td>\n",
       "      <td>yes</td>\n",
       "      <td>False</td>\n",
       "    </tr>\n",
       "    <tr>\n",
       "      <th>4</th>\n",
       "      <td>0</td>\n",
       "      <td>3</td>\n",
       "      <td>male</td>\n",
       "      <td>35.0</td>\n",
       "      <td>0</td>\n",
       "      <td>0</td>\n",
       "      <td>8.0500</td>\n",
       "      <td>S</td>\n",
       "      <td>Third</td>\n",
       "      <td>man</td>\n",
       "      <td>True</td>\n",
       "      <td>NaN</td>\n",
       "      <td>Southampton</td>\n",
       "      <td>no</td>\n",
       "      <td>True</td>\n",
       "    </tr>\n",
       "  </tbody>\n",
       "</table>\n",
       "</div>"
      ],
      "text/plain": [
       "   survived  pclass     sex   age  sibsp  parch     fare embarked  class  \\\n",
       "0         0       3    male  22.0      1      0   7.2500        S  Third   \n",
       "1         1       1  female  38.0      1      0  71.2833        C  First   \n",
       "2         1       3  female  26.0      0      0   7.9250        S  Third   \n",
       "3         1       1  female  35.0      1      0  53.1000        S  First   \n",
       "4         0       3    male  35.0      0      0   8.0500        S  Third   \n",
       "\n",
       "     who  adult_male deck  embark_town alive  alone  \n",
       "0    man        True  NaN  Southampton    no  False  \n",
       "1  woman       False    C    Cherbourg   yes  False  \n",
       "2  woman       False  NaN  Southampton   yes   True  \n",
       "3  woman       False    C  Southampton   yes  False  \n",
       "4    man        True  NaN  Southampton    no   True  "
      ]
     },
     "execution_count": 7,
     "metadata": {},
     "output_type": "execute_result"
    }
   ],
   "source": [
    "#q5\n",
    "#Ho- the average age of female and males is simliar\n",
    "#Ha-average age of the female and males is different\n",
    "\n",
    "\n",
    "import numpy as np\n",
    "import pandas as pd\n",
    "\n",
    "df=pd.read_csv('titanic.csv')\n",
    "df.head()\n"
   ]
  },
  {
   "cell_type": "code",
   "execution_count": 8,
   "id": "ddf00518-ce2f-40eb-8d80-084d9de548a8",
   "metadata": {},
   "outputs": [],
   "source": [
    "males_age=df[df['sex']=='male']['age'].dropna()\n",
    "females_age=df[df['sex']=='female']['age'].dropna()\n"
   ]
  },
  {
   "cell_type": "code",
   "execution_count": 12,
   "id": "ff7de7c5-013b-40c1-82fe-5186a873f21f",
   "metadata": {},
   "outputs": [],
   "source": [
    "males_sample=males_age.sample(30)"
   ]
  },
  {
   "cell_type": "code",
   "execution_count": 13,
   "id": "d292da34-20f4-4b6a-8844-265654ae1833",
   "metadata": {},
   "outputs": [],
   "source": [
    "female_sample=females_age.sample(30)"
   ]
  },
  {
   "cell_type": "code",
   "execution_count": 14,
   "id": "a7596aa8-2df4-4d3a-b7bf-44de2b454803",
   "metadata": {},
   "outputs": [
    {
     "name": "stdout",
     "output_type": "stream",
     "text": [
      "[ShapiroResult(statistic=0.9757060408592224, pvalue=0.7035298943519592), ShapiroResult(statistic=0.9704416990280151, pvalue=0.5513312816619873)]\n"
     ]
    }
   ],
   "source": [
    "from scipy.stats import shapiro\n",
    "\n",
    "shapiro_test1=shapiro(males_sample)\n",
    "shapiro_test2=shapiro(female_sample)\n",
    "\n",
    "print([shapiro_test1,shapiro_test2])\n",
    "#since the p values in both the sample is greate than 0.05 we accept that the data is normal"
   ]
  },
  {
   "cell_type": "code",
   "execution_count": 15,
   "id": "956d4451-9ec0-4127-b991-097cf3b17fbb",
   "metadata": {},
   "outputs": [
    {
     "name": "stdout",
     "output_type": "stream",
     "text": [
      "LeveneResult(statistic=0.028470631841722337, pvalue=0.8665941743607188)\n"
     ]
    }
   ],
   "source": [
    "from scipy.stats import levene\n",
    "\n",
    "levene_test=levene(males_sample,female_sample)\n",
    "print(levene_test)\n",
    "\n",
    "#since 0.5>0.05 we accept the assumption of homoscedasticity"
   ]
  },
  {
   "cell_type": "code",
   "execution_count": 16,
   "id": "3acc4db6-8c47-4fe0-b12b-cd0b6b9cc4de",
   "metadata": {},
   "outputs": [],
   "source": [
    "#calculating t ststistic\n",
    "from math import sqrt\n",
    "\n",
    "t=(males_sample.mean()-female_sample.mean())/sqrt((((males_sample.std())**2)/30) + (((female_sample.std())**2)/30))\n"
   ]
  },
  {
   "cell_type": "code",
   "execution_count": 17,
   "id": "6ec39722-d0eb-4015-8d85-e1267f2d5f5f",
   "metadata": {},
   "outputs": [
    {
     "data": {
      "text/plain": [
       "2.00672039299573"
      ]
     },
     "execution_count": 17,
     "metadata": {},
     "output_type": "execute_result"
    }
   ],
   "source": [
    "t"
   ]
  },
  {
   "cell_type": "code",
   "execution_count": 18,
   "id": "773a0171-5ee1-4dea-8533-9579c4914d8f",
   "metadata": {},
   "outputs": [
    {
     "name": "stdout",
     "output_type": "stream",
     "text": [
      "0.8999967687878923\n"
     ]
    }
   ],
   "source": [
    "from scipy.stats import t\n",
    "t_value=1.2963\n",
    "dff=58 #degrees of freedom\n",
    "\n",
    "\n",
    "cdf_value=t.cdf(t_value,dff)\n",
    "print(cdf_value)"
   ]
  },
  {
   "cell_type": "code",
   "execution_count": 19,
   "id": "a505b8b7-2681-4335-97ce-4f65db6a779f",
   "metadata": {},
   "outputs": [],
   "source": [
    "# from this we can say we gave to accept our null hypothesis\n",
    "#i.e the average age of female and males is simliar\n"
   ]
  },
  {
   "cell_type": "code",
   "execution_count": 20,
   "id": "cca4d4be-dc27-4d9b-a066-ce076100f75f",
   "metadata": {},
   "outputs": [],
   "source": [
    "#q6\n",
    "# null hypothsises is the assumption that there is no stastistical diffrerence between the varibales\n",
    "# alternate hypthesis is ooposite of null hypothesis that there is significant difference between the stastistical variables\n"
   ]
  },
  {
   "cell_type": "code",
   "execution_count": 21,
   "id": "431354d2-7ef8-48b0-a6a7-f368063eccfc",
   "metadata": {},
   "outputs": [],
   "source": [
    "#q7\n",
    "#steps\n",
    "#form null and alternate hypothesis\n",
    "# select a siginificance level\n",
    "#check assumption\n",
    "# decide the test\n",
    "# calculate the statistic\n",
    "# decide to accept or reject the null hypothesis\n",
    "# interprest the result"
   ]
  },
  {
   "cell_type": "code",
   "execution_count": 22,
   "id": "2cb7ca0a-9b71-4113-bf52-f6a628db55a4",
   "metadata": {},
   "outputs": [],
   "source": [
    "#q8\n",
    "#p value  is the the probility of extreme events occuring such that the null hypothesis is rejected\n",
    "# pvalue gives us the quantification with which nul hypothesis is rejected\n",
    "# pvalue approach is more better than rejection region approach"
   ]
  },
  {
   "cell_type": "code",
   "execution_count": 24,
   "id": "04fc58bf-60dd-4184-9ae6-9f57c5bdede5",
   "metadata": {},
   "outputs": [
    {
     "data": {
      "image/png": "[encoded data removed]",
      "text/plain": [
       "<Figure size 640x480 with 1 Axes>"
      ]
     },
     "metadata": {},
     "output_type": "display_data"
    }
   ],
   "source": [
    "#q9\n",
    "import matplotlib.pyplot as plt\n",
    "from scipy import stats\n",
    "import numpy as np\n",
    "x=np.arange(4,-4,0.1)\n",
    "t_dis=stats.t.pdf(x,30)\n",
    "\n",
    "plt.plot(x,t_dis)\n",
    "plt.show()"
   ]
  },
  {
   "cell_type": "code",
   "execution_count": 25,
   "id": "2d50b9ab-31fb-4192-8871-be22e28459b6",
   "metadata": {},
   "outputs": [
    {
     "data": {
      "text/html": [
       "<div>\n",
       "<style scoped>\n",
       "    .dataframe tbody tr th:only-of-type {\n",
       "        vertical-align: middle;\n",
       "    }\n",
       "\n",
       "    .dataframe tbody tr th {\n",
       "        vertical-align: top;\n",
       "    }\n",
       "\n",
       "    .dataframe thead th {\n",
       "        text-align: right;\n",
       "    }\n",
       "</style>\n",
       "<table border=\"1\" class=\"dataframe\">\n",
       "  <thead>\n",
       "    <tr style=\"text-align: right;\">\n",
       "      <th></th>\n",
       "      <th>survived</th>\n",
       "      <th>pclass</th>\n",
       "      <th>sex</th>\n",
       "      <th>age</th>\n",
       "      <th>sibsp</th>\n",
       "      <th>parch</th>\n",
       "      <th>fare</th>\n",
       "      <th>embarked</th>\n",
       "      <th>class</th>\n",
       "      <th>who</th>\n",
       "      <th>adult_male</th>\n",
       "      <th>deck</th>\n",
       "      <th>embark_town</th>\n",
       "      <th>alive</th>\n",
       "      <th>alone</th>\n",
       "    </tr>\n",
       "  </thead>\n",
       "  <tbody>\n",
       "    <tr>\n",
       "      <th>0</th>\n",
       "      <td>0</td>\n",
       "      <td>3</td>\n",
       "      <td>male</td>\n",
       "      <td>22.0</td>\n",
       "      <td>1</td>\n",
       "      <td>0</td>\n",
       "      <td>7.2500</td>\n",
       "      <td>S</td>\n",
       "      <td>Third</td>\n",
       "      <td>man</td>\n",
       "      <td>True</td>\n",
       "      <td>NaN</td>\n",
       "      <td>Southampton</td>\n",
       "      <td>no</td>\n",
       "      <td>False</td>\n",
       "    </tr>\n",
       "    <tr>\n",
       "      <th>1</th>\n",
       "      <td>1</td>\n",
       "      <td>1</td>\n",
       "      <td>female</td>\n",
       "      <td>38.0</td>\n",
       "      <td>1</td>\n",
       "      <td>0</td>\n",
       "      <td>71.2833</td>\n",
       "      <td>C</td>\n",
       "      <td>First</td>\n",
       "      <td>woman</td>\n",
       "      <td>False</td>\n",
       "      <td>C</td>\n",
       "      <td>Cherbourg</td>\n",
       "      <td>yes</td>\n",
       "      <td>False</td>\n",
       "    </tr>\n",
       "    <tr>\n",
       "      <th>2</th>\n",
       "      <td>1</td>\n",
       "      <td>3</td>\n",
       "      <td>female</td>\n",
       "      <td>26.0</td>\n",
       "      <td>0</td>\n",
       "      <td>0</td>\n",
       "      <td>7.9250</td>\n",
       "      <td>S</td>\n",
       "      <td>Third</td>\n",
       "      <td>woman</td>\n",
       "      <td>False</td>\n",
       "      <td>NaN</td>\n",
       "      <td>Southampton</td>\n",
       "      <td>yes</td>\n",
       "      <td>True</td>\n",
       "    </tr>\n",
       "    <tr>\n",
       "      <th>3</th>\n",
       "      <td>1</td>\n",
       "      <td>1</td>\n",
       "      <td>female</td>\n",
       "      <td>35.0</td>\n",
       "      <td>1</td>\n",
       "      <td>0</td>\n",
       "      <td>53.1000</td>\n",
       "      <td>S</td>\n",
       "      <td>First</td>\n",
       "      <td>woman</td>\n",
       "      <td>False</td>\n",
       "      <td>C</td>\n",
       "      <td>Southampton</td>\n",
       "      <td>yes</td>\n",
       "      <td>False</td>\n",
       "    </tr>\n",
       "    <tr>\n",
       "      <th>4</th>\n",
       "      <td>0</td>\n",
       "      <td>3</td>\n",
       "      <td>male</td>\n",
       "      <td>35.0</td>\n",
       "      <td>0</td>\n",
       "      <td>0</td>\n",
       "      <td>8.0500</td>\n",
       "      <td>S</td>\n",
       "      <td>Third</td>\n",
       "      <td>man</td>\n",
       "      <td>True</td>\n",
       "      <td>NaN</td>\n",
       "      <td>Southampton</td>\n",
       "      <td>no</td>\n",
       "      <td>True</td>\n",
       "    </tr>\n",
       "  </tbody>\n",
       "</table>\n",
       "</div>"
      ],
      "text/plain": [
       "   survived  pclass     sex   age  sibsp  parch     fare embarked  class  \\\n",
       "0         0       3    male  22.0      1      0   7.2500        S  Third   \n",
       "1         1       1  female  38.0      1      0  71.2833        C  First   \n",
       "2         1       3  female  26.0      0      0   7.9250        S  Third   \n",
       "3         1       1  female  35.0      1      0  53.1000        S  First   \n",
       "4         0       3    male  35.0      0      0   8.0500        S  Third   \n",
       "\n",
       "     who  adult_male deck  embark_town alive  alone  \n",
       "0    man        True  NaN  Southampton    no  False  \n",
       "1  woman       False    C    Cherbourg   yes  False  \n",
       "2  woman       False  NaN  Southampton   yes   True  \n",
       "3  woman       False    C  Southampton   yes  False  \n",
       "4    man        True  NaN  Southampton    no   True  "
      ]
     },
     "execution_count": 25,
     "metadata": {},
     "output_type": "execute_result"
    }
   ],
   "source": [
    "#10\n",
    "#Ho- the average age of female and males is simliar\n",
    "#Ha-average age of the female and males is different\n",
    "\n",
    "\n",
    "import numpy as np\n",
    "import pandas as pd\n",
    "\n",
    "df=pd.read_csv('titanic.csv')\n",
    "df.head()"
   ]
  },
  {
   "cell_type": "code",
   "execution_count": 26,
   "id": "7a88e6f3-d112-493a-8c0c-6e315223fde2",
   "metadata": {},
   "outputs": [],
   "source": [
    "males_age=df[df['sex']=='male']['age'].dropna()\n",
    "females_age=df[df['sex']=='female']['age'].dropna()\n"
   ]
  },
  {
   "cell_type": "code",
   "execution_count": 27,
   "id": "f72a200f-a6bd-4e82-b4ab-0eaa5f598384",
   "metadata": {},
   "outputs": [],
   "source": [
    "males_sample=males_age.sample(30)"
   ]
  },
  {
   "cell_type": "code",
   "execution_count": 28,
   "id": "0cfa4888-91ac-4d84-a5a3-bb5f8fc7c766",
   "metadata": {},
   "outputs": [],
   "source": [
    "female_sample=females_age.sample(30)"
   ]
  },
  {
   "cell_type": "code",
   "execution_count": 29,
   "id": "c3f0be75-c8fa-4d1a-b346-8bc01a011e4f",
   "metadata": {},
   "outputs": [],
   "source": [
    "# checking assumption of the independent 2 sample t test\n",
    "# because of random sampling sample is random\n",
    "#for normality we will check shapiro test\n",
    "# for homoscdasticity we will conduct levene test\n",
    "# and the data is independent the assumption is satisfied\n"
   ]
  },
  {
   "cell_type": "code",
   "execution_count": 30,
   "id": "9d484d93-acdb-4dd8-af76-0306efb658d2",
   "metadata": {},
   "outputs": [
    {
     "name": "stdout",
     "output_type": "stream",
     "text": [
      "[ShapiroResult(statistic=0.9704409241676331, pvalue=0.5513104200363159), ShapiroResult(statistic=0.967086672782898, pvalue=0.46284016966819763)]\n"
     ]
    }
   ],
   "source": [
    "from scipy.stats import shapiro\n",
    "\n",
    "shapiro_test1=shapiro(males_sample)\n",
    "shapiro_test2=shapiro(female_sample)\n",
    "\n",
    "print([shapiro_test1,shapiro_test2])\n",
    "#since the p values in both the sample is greate than 0.05 we accept that the data is normal"
   ]
  },
  {
   "cell_type": "code",
   "execution_count": 31,
   "id": "c6b5884e-44bf-43c0-9613-0704c68b3b5d",
   "metadata": {},
   "outputs": [
    {
     "name": "stdout",
     "output_type": "stream",
     "text": [
      "LeveneResult(statistic=0.045025148304625305, pvalue=0.8327017395383821)\n"
     ]
    }
   ],
   "source": [
    "from scipy.stats import levene\n",
    "\n",
    "levene_test=levene(males_sample,female_sample)\n",
    "print(levene_test)\n",
    "\n",
    "#since 0.5>0.05 we accept the assumption of homoscedasticity"
   ]
  },
  {
   "cell_type": "code",
   "execution_count": 32,
   "id": "bac6cd7b-6883-4605-9fb7-4164abc64019",
   "metadata": {},
   "outputs": [],
   "source": [
    "#calculating t ststistic\n",
    "from math import sqrt\n",
    "\n",
    "t=(males_sample.mean()-female_sample.mean())/sqrt((((males_sample.std())**2)/30) + (((female_sample.std())**2)/30))\n"
   ]
  },
  {
   "cell_type": "code",
   "execution_count": 33,
   "id": "d97a8108-80cb-413b-ab3e-3dea04b87f5c",
   "metadata": {},
   "outputs": [
    {
     "name": "stdout",
     "output_type": "stream",
     "text": [
      "0.8999967687878923\n"
     ]
    }
   ],
   "source": [
    "from scipy.stats import t\n",
    "t_value=1.2963\n",
    "dff=58 #degrees of freedom\n",
    "\n",
    "\n",
    "cdf_value=t.cdf(t_value,dff)\n",
    "print(cdf_value)"
   ]
  },
  {
   "cell_type": "code",
   "execution_count": 34,
   "id": "4d1ea226-3b7d-4371-baa0-3730c8136a05",
   "metadata": {},
   "outputs": [],
   "source": [
    "# from this we can say we gave to accept our null hypothesis\n",
    "#i.e the average age of female and males is simliar\n"
   ]
  },
  {
   "cell_type": "code",
   "execution_count": 35,
   "id": "c7308dbd-4240-4113-960b-72069ff927d6",
   "metadata": {},
   "outputs": [],
   "source": [
    "#q11\n",
    "#T distribution is a continuos pdf which is similar to a normal distribution but is not is does not exits in nature\n",
    "# it is used when we don't have population standard deviation"
   ]
  },
  {
   "cell_type": "code",
   "execution_count": 36,
   "id": "cb81989b-cba8-4dff-96f4-831a6baf9d5d",
   "metadata": {},
   "outputs": [],
   "source": [
    "#q12\n",
    "#t statistic is the way of estimating about the the population poarameter when the population standard deviation in unknown\n",
    "#formula\n",
    "#t=(sample_mean-population_mean)/sample.std/sqrt(n)\n"
   ]
  },
  {
   "cell_type": "code",
   "execution_count": 37,
   "id": "8fd4a93a-eeae-476c-a803-bf1eeb17fdfa",
   "metadata": {},
   "outputs": [
    {
     "name": "stdout",
     "output_type": "stream",
     "text": [
      "[500.3535533905933, 499.6464466094067]\n"
     ]
    }
   ],
   "source": [
    "#q13\n",
    "error=(0.05*50)/sqrt(50)\n",
    " \n",
    "C_I=[500+error,500-error]\n",
    "print(C_I)"
   ]
  },
  {
   "cell_type": "code",
   "execution_count": 38,
   "id": "686c1a56-52b1-47f2-b646-5c8e3aea912a",
   "metadata": {},
   "outputs": [
    {
     "name": "stdout",
     "output_type": "stream",
     "text": [
      "-6.666666666666667\n"
     ]
    }
   ],
   "source": [
    "#q14\n",
    "#Ho=blood presurres before and after the drug is same\n",
    "#Ha=blood presure decreases after intake of drugs\n",
    "# since the population standard deviation is given we can apply z test\n",
    "# we asume all assumption of z test is are accepted \n",
    "# z statistic\n",
    "z=(8-10)*sqrt(100)/3\n",
    "print(z)"
   ]
  },
  {
   "cell_type": "code",
   "execution_count": 39,
   "id": "a30079d8-017b-48f0-b768-59e144b62885",
   "metadata": {},
   "outputs": [],
   "source": [
    "#since it doesn't lie in rejection region accept the null hypothesis"
   ]
  },
  {
   "cell_type": "code",
   "execution_count": 41,
   "id": "99b66255-67f3-4ec5-a13b-d3a0904805a2",
   "metadata": {},
   "outputs": [
    {
     "name": "stdout",
     "output_type": "stream",
     "text": [
      "-2.0000000000000018\n"
     ]
    }
   ],
   "source": [
    "#q15\n",
    "#Ho=mean weight of product is 5\n",
    "#Ha=mean weight is  less than 5\n",
    "# since the population standard deviation is given we can apply z test\n",
    "# we asume all assumption of z test is are accepted \n",
    "# z statistic\n",
    "a=(4.8-5)*sqrt(25)/0.5\n",
    "print(a)"
   ]
  },
  {
   "cell_type": "code",
   "execution_count": 42,
   "id": "3f7f4879-9325-4205-9de9-5a861630c7dc",
   "metadata": {},
   "outputs": [],
   "source": [
    "#since it doesn't lie in the rejection region accept the null hypothesis"
   ]
  },
  {
   "cell_type": "code",
   "execution_count": null,
   "id": "d54ced79-dab9-43a5-9499-928cd0ba20d1",
   "metadata": {},
   "outputs": [],
   "source": [
    "#q16\n",
    "#Ho=mean of the both group is similar\n",
    "#Ha=mean of both the groups is different\n",
    "# since the population standard deviation is given we can apply z test\n",
    "# we asume all assumption of z test is are accepted \n",
    "# z statistic\n",
    "t=(4.8-5)*sqrt(30)/0.5\n",
    "print(t)\n",
    "y=(4.8-5)*sqrt(25)/0.5\n",
    "print(y)\n"
   ]
  },
  {
   "cell_type": "code",
   "execution_count": null,
   "id": "9aff0364-2bb4-4b27-bd17-3a77a7f1abe6",
   "metadata": {},
   "outputs": [],
   "source": [
    "#q17\n",
    "error=(1.5*50)/sqrt(50)\n",
    " \n",
    "C_I=[4+error,4-error]\n",
    "print(C_I)\n",
    "\n",
    "\n",
    "\n",
    "\n",
    "\n",
    "\n",
    "\n"
   ]
  }
 ],
 "metadata": {
  "kernelspec": {
   "display_name": "Python 3 (ipykernel)",
   "language": "python",
   "name": "python3"
  },
  "language_info": {
   "codemirror_mode": {
    "name": "ipython",
    "version": 3
   },
   "file_extension": ".py",
   "mimetype": "text/x-python",
   "name": "python",
   "nbconvert_exporter": "python",
   "pygments_lexer": "ipython3",
   "version": "3.10.8"
  }
 },
 "nbformat": 4,
 "nbformat_minor": 5
}
